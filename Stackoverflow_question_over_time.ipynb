{
  "nbformat": 4,
  "nbformat_minor": 0,
  "metadata": {
    "colab": {
      "provenance": [],
      "authorship_tag": "ABX9TyOTaF60hAt6aBfsU29Fch20",
      "include_colab_link": true
    },
    "kernelspec": {
      "name": "python3",
      "display_name": "Python 3"
    },
    "language_info": {
      "name": "python"
    }
  },
  "cells": [
    {
      "cell_type": "markdown",
      "metadata": {
        "id": "view-in-github",
        "colab_type": "text"
      },
      "source": [
        "<a href=\"https://colab.research.google.com/github/Tadamiao/Guided-Project/blob/main/Stackoverflow_question_over_time.ipynb\" target=\"_parent\"><img src=\"https://colab.research.google.com/assets/colab-badge.svg\" alt=\"Open In Colab\"/></a>"
      ]
    },
    {
      "cell_type": "code",
      "execution_count": null,
      "metadata": {
        "id": "FcQBOo--ZUHW"
      },
      "outputs": [],
      "source": [
        "#Activate R\n",
        "%load_ext rpy2.ipython"
      ]
    },
    {
      "cell_type": "code",
      "source": [
        "#Install and Load\n",
        "%%R\n",
        "install.packages(\"readr\")\n",
        "install.packages(\"dplyr\")\n",
        "library(readr)\n",
        "library(dplyr)"
      ],
      "metadata": {
        "colab": {
          "base_uri": "https://localhost:8080/"
        },
        "id": "KoJPZrDWaObg",
        "outputId": "c71fed36-b027-4cbe-9b5e-da9cc299ce6b"
      },
      "execution_count": null,
      "outputs": [
        {
          "output_type": "stream",
          "name": "stderr",
          "text": [
            "WARNING:rpy2.rinterface_lib.callbacks:R[write to console]: Installing package into ‘/usr/local/lib/R/site-library’\n",
            "(as ‘lib’ is unspecified)\n",
            "\n",
            "WARNING:rpy2.rinterface_lib.callbacks:R[write to console]: trying URL 'https://cran.rstudio.com/src/contrib/readr_2.1.2.tar.gz'\n",
            "\n",
            "WARNING:rpy2.rinterface_lib.callbacks:R[write to console]: Content type 'application/x-gzip'\n",
            "WARNING:rpy2.rinterface_lib.callbacks:R[write to console]:  length 302240 bytes (295 KB)\n",
            "\n",
            "WARNING:rpy2.rinterface_lib.callbacks:R[write to console]: =\n",
            "WARNING:rpy2.rinterface_lib.callbacks:R[write to console]: =\n",
            "WARNING:rpy2.rinterface_lib.callbacks:R[write to console]: =\n",
            "WARNING:rpy2.rinterface_lib.callbacks:R[write to console]: =\n",
            "WARNING:rpy2.rinterface_lib.callbacks:R[write to console]: =\n",
            "WARNING:rpy2.rinterface_lib.callbacks:R[write to console]: =\n",
            "WARNING:rpy2.rinterface_lib.callbacks:R[write to console]: =\n",
            "WARNING:rpy2.rinterface_lib.callbacks:R[write to console]: =\n",
            "WARNING:rpy2.rinterface_lib.callbacks:R[write to console]: =\n",
            "WARNING:rpy2.rinterface_lib.callbacks:R[write to console]: =\n",
            "WARNING:rpy2.rinterface_lib.callbacks:R[write to console]: =\n",
            "WARNING:rpy2.rinterface_lib.callbacks:R[write to console]: =\n",
            "WARNING:rpy2.rinterface_lib.callbacks:R[write to console]: =\n",
            "WARNING:rpy2.rinterface_lib.callbacks:R[write to console]: =\n",
            "WARNING:rpy2.rinterface_lib.callbacks:R[write to console]: =\n",
            "WARNING:rpy2.rinterface_lib.callbacks:R[write to console]: =\n",
            "WARNING:rpy2.rinterface_lib.callbacks:R[write to console]: =\n",
            "WARNING:rpy2.rinterface_lib.callbacks:R[write to console]: =\n",
            "WARNING:rpy2.rinterface_lib.callbacks:R[write to console]: =\n",
            "WARNING:rpy2.rinterface_lib.callbacks:R[write to console]: =\n",
            "WARNING:rpy2.rinterface_lib.callbacks:R[write to console]: =\n",
            "WARNING:rpy2.rinterface_lib.callbacks:R[write to console]: =\n",
            "WARNING:rpy2.rinterface_lib.callbacks:R[write to console]: =\n",
            "WARNING:rpy2.rinterface_lib.callbacks:R[write to console]: =\n",
            "WARNING:rpy2.rinterface_lib.callbacks:R[write to console]: =\n",
            "WARNING:rpy2.rinterface_lib.callbacks:R[write to console]: =\n",
            "WARNING:rpy2.rinterface_lib.callbacks:R[write to console]: =\n",
            "WARNING:rpy2.rinterface_lib.callbacks:R[write to console]: =\n",
            "WARNING:rpy2.rinterface_lib.callbacks:R[write to console]: =\n",
            "WARNING:rpy2.rinterface_lib.callbacks:R[write to console]: =\n",
            "WARNING:rpy2.rinterface_lib.callbacks:R[write to console]: =\n",
            "WARNING:rpy2.rinterface_lib.callbacks:R[write to console]: =\n",
            "WARNING:rpy2.rinterface_lib.callbacks:R[write to console]: =\n",
            "WARNING:rpy2.rinterface_lib.callbacks:R[write to console]: =\n",
            "WARNING:rpy2.rinterface_lib.callbacks:R[write to console]: =\n",
            "WARNING:rpy2.rinterface_lib.callbacks:R[write to console]: =\n",
            "WARNING:rpy2.rinterface_lib.callbacks:R[write to console]: =\n",
            "WARNING:rpy2.rinterface_lib.callbacks:R[write to console]: =\n",
            "WARNING:rpy2.rinterface_lib.callbacks:R[write to console]: =\n",
            "WARNING:rpy2.rinterface_lib.callbacks:R[write to console]: =\n",
            "WARNING:rpy2.rinterface_lib.callbacks:R[write to console]: =\n",
            "WARNING:rpy2.rinterface_lib.callbacks:R[write to console]: =\n",
            "WARNING:rpy2.rinterface_lib.callbacks:R[write to console]: =\n",
            "WARNING:rpy2.rinterface_lib.callbacks:R[write to console]: =\n",
            "WARNING:rpy2.rinterface_lib.callbacks:R[write to console]: =\n",
            "WARNING:rpy2.rinterface_lib.callbacks:R[write to console]: =\n",
            "WARNING:rpy2.rinterface_lib.callbacks:R[write to console]: =\n",
            "WARNING:rpy2.rinterface_lib.callbacks:R[write to console]: =\n",
            "WARNING:rpy2.rinterface_lib.callbacks:R[write to console]: =\n",
            "WARNING:rpy2.rinterface_lib.callbacks:R[write to console]: =\n",
            "WARNING:rpy2.rinterface_lib.callbacks:R[write to console]: \n",
            "\n",
            "WARNING:rpy2.rinterface_lib.callbacks:R[write to console]: downloaded 295 KB\n",
            "\n",
            "\n",
            "WARNING:rpy2.rinterface_lib.callbacks:R[write to console]: \n",
            "\n",
            "WARNING:rpy2.rinterface_lib.callbacks:R[write to console]: \n",
            "WARNING:rpy2.rinterface_lib.callbacks:R[write to console]: The downloaded source packages are in\n",
            "\t‘/tmp/Rtmp5ZFr9J/downloaded_packages’\n",
            "WARNING:rpy2.rinterface_lib.callbacks:R[write to console]: \n",
            "WARNING:rpy2.rinterface_lib.callbacks:R[write to console]: \n",
            "\n",
            "WARNING:rpy2.rinterface_lib.callbacks:R[write to console]: Installing package into ‘/usr/local/lib/R/site-library’\n",
            "(as ‘lib’ is unspecified)\n",
            "\n",
            "WARNING:rpy2.rinterface_lib.callbacks:R[write to console]: trying URL 'https://cran.rstudio.com/src/contrib/dplyr_1.0.10.tar.gz'\n",
            "\n",
            "WARNING:rpy2.rinterface_lib.callbacks:R[write to console]: Content type 'application/x-gzip'\n",
            "WARNING:rpy2.rinterface_lib.callbacks:R[write to console]:  length 884984 bytes (864 KB)\n",
            "\n",
            "WARNING:rpy2.rinterface_lib.callbacks:R[write to console]: =\n",
            "WARNING:rpy2.rinterface_lib.callbacks:R[write to console]: =\n",
            "WARNING:rpy2.rinterface_lib.callbacks:R[write to console]: =\n",
            "WARNING:rpy2.rinterface_lib.callbacks:R[write to console]: =\n",
            "WARNING:rpy2.rinterface_lib.callbacks:R[write to console]: =\n",
            "WARNING:rpy2.rinterface_lib.callbacks:R[write to console]: =\n",
            "WARNING:rpy2.rinterface_lib.callbacks:R[write to console]: =\n",
            "WARNING:rpy2.rinterface_lib.callbacks:R[write to console]: =\n",
            "WARNING:rpy2.rinterface_lib.callbacks:R[write to console]: =\n",
            "WARNING:rpy2.rinterface_lib.callbacks:R[write to console]: =\n",
            "WARNING:rpy2.rinterface_lib.callbacks:R[write to console]: =\n",
            "WARNING:rpy2.rinterface_lib.callbacks:R[write to console]: =\n",
            "WARNING:rpy2.rinterface_lib.callbacks:R[write to console]: =\n",
            "WARNING:rpy2.rinterface_lib.callbacks:R[write to console]: =\n",
            "WARNING:rpy2.rinterface_lib.callbacks:R[write to console]: =\n",
            "WARNING:rpy2.rinterface_lib.callbacks:R[write to console]: =\n",
            "WARNING:rpy2.rinterface_lib.callbacks:R[write to console]: =\n",
            "WARNING:rpy2.rinterface_lib.callbacks:R[write to console]: =\n",
            "WARNING:rpy2.rinterface_lib.callbacks:R[write to console]: =\n",
            "WARNING:rpy2.rinterface_lib.callbacks:R[write to console]: =\n",
            "WARNING:rpy2.rinterface_lib.callbacks:R[write to console]: =\n",
            "WARNING:rpy2.rinterface_lib.callbacks:R[write to console]: =\n",
            "WARNING:rpy2.rinterface_lib.callbacks:R[write to console]: =\n",
            "WARNING:rpy2.rinterface_lib.callbacks:R[write to console]: =\n",
            "WARNING:rpy2.rinterface_lib.callbacks:R[write to console]: =\n",
            "WARNING:rpy2.rinterface_lib.callbacks:R[write to console]: =\n",
            "WARNING:rpy2.rinterface_lib.callbacks:R[write to console]: =\n",
            "WARNING:rpy2.rinterface_lib.callbacks:R[write to console]: =\n",
            "WARNING:rpy2.rinterface_lib.callbacks:R[write to console]: =\n",
            "WARNING:rpy2.rinterface_lib.callbacks:R[write to console]: =\n",
            "WARNING:rpy2.rinterface_lib.callbacks:R[write to console]: =\n",
            "WARNING:rpy2.rinterface_lib.callbacks:R[write to console]: =\n",
            "WARNING:rpy2.rinterface_lib.callbacks:R[write to console]: =\n",
            "WARNING:rpy2.rinterface_lib.callbacks:R[write to console]: =\n",
            "WARNING:rpy2.rinterface_lib.callbacks:R[write to console]: =\n",
            "WARNING:rpy2.rinterface_lib.callbacks:R[write to console]: =\n",
            "WARNING:rpy2.rinterface_lib.callbacks:R[write to console]: =\n",
            "WARNING:rpy2.rinterface_lib.callbacks:R[write to console]: =\n",
            "WARNING:rpy2.rinterface_lib.callbacks:R[write to console]: =\n",
            "WARNING:rpy2.rinterface_lib.callbacks:R[write to console]: =\n",
            "WARNING:rpy2.rinterface_lib.callbacks:R[write to console]: =\n",
            "WARNING:rpy2.rinterface_lib.callbacks:R[write to console]: =\n",
            "WARNING:rpy2.rinterface_lib.callbacks:R[write to console]: =\n",
            "WARNING:rpy2.rinterface_lib.callbacks:R[write to console]: =\n",
            "WARNING:rpy2.rinterface_lib.callbacks:R[write to console]: =\n",
            "WARNING:rpy2.rinterface_lib.callbacks:R[write to console]: =\n",
            "WARNING:rpy2.rinterface_lib.callbacks:R[write to console]: =\n",
            "WARNING:rpy2.rinterface_lib.callbacks:R[write to console]: =\n",
            "WARNING:rpy2.rinterface_lib.callbacks:R[write to console]: =\n",
            "WARNING:rpy2.rinterface_lib.callbacks:R[write to console]: =\n",
            "WARNING:rpy2.rinterface_lib.callbacks:R[write to console]: \n",
            "\n",
            "WARNING:rpy2.rinterface_lib.callbacks:R[write to console]: downloaded 864 KB\n",
            "\n",
            "\n",
            "WARNING:rpy2.rinterface_lib.callbacks:R[write to console]: \n",
            "\n",
            "WARNING:rpy2.rinterface_lib.callbacks:R[write to console]: \n",
            "WARNING:rpy2.rinterface_lib.callbacks:R[write to console]: The downloaded source packages are in\n",
            "\t‘/tmp/Rtmp5ZFr9J/downloaded_packages’\n",
            "WARNING:rpy2.rinterface_lib.callbacks:R[write to console]: \n",
            "WARNING:rpy2.rinterface_lib.callbacks:R[write to console]: \n",
            "\n"
          ]
        }
      ]
    },
    {
      "cell_type": "code",
      "source": [
        "#Load data (https://stackoverflow.com/questions/59746036/how-to-read-data-from-google-drive-using-r-in-colab)\n",
        "%%R\n",
        "by_tag_year = read.csv(\"by_tag_year.csv\")\n",
        "head(by_tag_year)"
      ],
      "metadata": {
        "colab": {
          "base_uri": "https://localhost:8080/"
        },
        "id": "63uN49Yea2zw",
        "outputId": "350aad3f-d9db-48fd-a4cb-8578ed5fcc9e"
      },
      "execution_count": 15,
      "outputs": [
        {
          "output_type": "stream",
          "name": "stdout",
          "text": [
            "  year           tag number year_total\n",
            "1 2008     .htaccess     54      58390\n",
            "2 2008          .net   5910      58390\n",
            "3 2008      .net-2.0    289      58390\n",
            "4 2008      .net-3.5    319      58390\n",
            "5 2008      .net-4.0      6      58390\n",
            "6 2008 .net-assembly      3      58390\n"
          ]
        }
      ]
    },
    {
      "cell_type": "code",
      "source": [
        "#Add fraction column\n",
        "%%R\n",
        "bty_fraction <- by_tag_year %>%\n",
        "mutate(fraction = number/year_total)\n",
        "head(bty_fraction)"
      ],
      "metadata": {
        "id": "-EyU29r6cJ2r",
        "colab": {
          "base_uri": "https://localhost:8080/"
        },
        "outputId": "87fd5c12-7596-4efb-d9f3-f816c95d8e79"
      },
      "execution_count": 17,
      "outputs": [
        {
          "output_type": "stream",
          "name": "stdout",
          "text": [
            "  year           tag number year_total     fraction\n",
            "1 2008     .htaccess     54      58390 9.248159e-04\n",
            "2 2008          .net   5910      58390 1.012160e-01\n",
            "3 2008      .net-2.0    289      58390 4.949478e-03\n",
            "4 2008      .net-3.5    319      58390 5.463264e-03\n",
            "5 2008      .net-4.0      6      58390 1.027573e-04\n",
            "6 2008 .net-assembly      3      58390 5.137866e-05\n"
          ]
        }
      ]
    },
    {
      "cell_type": "code",
      "source": [
        "#Growth or R?\n",
        "#Filter by R tag\n",
        "%%R\n",
        "r_over_time <- bty_fraction %>%\n",
        "filter(tag == \"r\")\n",
        "head(r_over_time)"
      ],
      "metadata": {
        "colab": {
          "base_uri": "https://localhost:8080/"
        },
        "id": "9qAyx0TTffwU",
        "outputId": "db0a92d3-9eb5-4c5d-8a41-fa294ce12641"
      },
      "execution_count": 20,
      "outputs": [
        {
          "output_type": "stream",
          "name": "stdout",
          "text": [
            "  year tag number year_total     fraction\n",
            "1 2008   r      8      58390 0.0001370098\n",
            "2 2009   r    524     343868 0.0015238405\n",
            "3 2010   r   2270     694391 0.0032690516\n",
            "4 2011   r   5845    1200551 0.0048685978\n",
            "5 2012   r  12221    1645404 0.0074273552\n",
            "6 2013   r  22329    2060473 0.0108368321\n"
          ]
        }
      ]
    },
    {
      "cell_type": "code",
      "source": [
        "#Plot over years for R tag\n",
        "%%R\n",
        "library(ggplot2)\n",
        "ggplot(r_over_time, aes(x=year, y=fraction)) +\n",
        "geom_line()+\n",
        "labs(title= \"R tags over time\")"
      ],
      "metadata": {
        "colab": {
          "base_uri": "https://localhost:8080/",
          "height": 497
        },
        "id": "fNVcDklugDhU",
        "outputId": "69a6b4ae-7bd7-47fe-dc94-4b360e8ff7b1"
      },
      "execution_count": 27,
      "outputs": [
        {
          "output_type": "display_data",
          "data": {
            "image/png": "[encoded data removed]"
          },
          "metadata": {}
        }
      ]
    },
    {
      "cell_type": "code",
      "source": [
        "#Popularity of R packages overtime\n",
        "#Filter by tags\n",
        "%%R\n",
        "r_tags <- c(\"r\",\"dplyr\", \"ggplot2\")\n",
        "r_tags_overtime <- bty_fraction %>%\n",
        "filter(tag %in% r_tags)\n",
        "print(r_tags_overtime)"
      ],
      "metadata": {
        "id": "j7hgg583g-pt"
      },
      "execution_count": null,
      "outputs": []
    },
    {
      "cell_type": "code",
      "source": [
        "#Plot R packages overtime\n",
        "%%R\n",
        "ggplot(r_tags_overtime , aes(x=year, y=fraction, col=tag))+\n",
        "geom_line() +\n",
        "labs(title= \"R packages popularity overtime\")"
      ],
      "metadata": {
        "id": "70OzEdOAiCTB"
      },
      "execution_count": null,
      "outputs": []
    },
    {
      "cell_type": "code",
      "source": [
        "#Sorted tags\n",
        "%%R\n",
        "sorted_tag <-by_tag_year %>%\n",
        "group_by(tag) %>%\n",
        "summarize(tag_total= sum(number)) %>%\n",
        "arrange(desc(tag_total))\n",
        "\n",
        "head(sorted_tag)"
      ],
      "metadata": {
        "colab": {
          "base_uri": "https://localhost:8080/"
        },
        "id": "-7c0Po1Oik9d",
        "outputId": "1b2d9253-c739-4dfc-a5c5-f2905f831b2c"
      },
      "execution_count": 38,
      "outputs": [
        {
          "output_type": "stream",
          "name": "stdout",
          "text": [
            "# A tibble: 6 × 2\n",
            "  tag        tag_total\n",
            "  <chr>          <int>\n",
            "1 javascript   1632049\n",
            "2 java         1425961\n",
            "3 c#           1217450\n",
            "4 php          1204291\n",
            "5 android      1110261\n",
            "6 python        970768\n"
          ]
        }
      ]
    },
    {
      "cell_type": "code",
      "source": [
        "#Most popular tag\n",
        "%%R\n",
        "pop_tags <- head(sorted_tag$tag)\n",
        "\n",
        "by_tag_subset <- bty_fraction %>%\n",
        "filter(tag %in% pop_tags)\n",
        "\n",
        "print(by_tag_subset)"
      ],
      "metadata": {
        "colab": {
          "base_uri": "https://localhost:8080/"
        },
        "id": "g8Q0YhQZjdQL",
        "outputId": "3576bafd-1d9c-4bab-8ac2-59f4498b80bb"
      },
      "execution_count": 41,
      "outputs": [
        {
          "output_type": "stream",
          "name": "stdout",
          "text": [
            "   year        tag number year_total     fraction\n",
            "1  2008    android     38      58390 0.0006507964\n",
            "2  2008         c#   7473      58390 0.1279842439\n",
            "3  2008       java   4315      58390 0.0738996403\n",
            "4  2008 javascript   2736      58390 0.0468573386\n",
            "5  2008        php   2254      58390 0.0386025004\n",
            "6  2008     python   2080      58390 0.0356225381\n",
            "7  2009    android   1991     343868 0.0057900124\n",
            "8  2009         c#  46044     343868 0.1339002175\n",
            "9  2009       java  24023     343868 0.0698611095\n",
            "10 2009 javascript  18722     343868 0.0544453104\n",
            "11 2009        php  20472     343868 0.0595344725\n",
            "12 2009     python  12906     343868 0.0375318436\n",
            "13 2010    android  27280     694391 0.0392862235\n",
            "14 2010         c#  75501     694391 0.1087298078\n",
            "15 2010       java  54519     694391 0.0785134024\n",
            "16 2010 javascript  43407     694391 0.0625108908\n",
            "17 2010        php  51790     694391 0.0745833399\n",
            "18 2010     python  27098     694391 0.0390241233\n",
            "19 2011    android  86987    1200551 0.0724558973\n",
            "20 2011         c# 113408    1200551 0.0944632923\n",
            "21 2011       java  99490    1200551 0.0828702821\n",
            "22 2011 javascript  90331    1200551 0.0752412850\n",
            "23 2011        php  96758    1200551 0.0805946603\n",
            "24 2011     python  42313    1200551 0.0352446502\n",
            "25 2012    android 129903    1645404 0.0789489998\n",
            "26 2012         c# 139335    1645404 0.0846813305\n",
            "27 2012       java 145640    1645404 0.0885132162\n",
            "28 2012 javascript 136947    1645404 0.0832300152\n",
            "29 2012        php 132949    1645404 0.0808002168\n",
            "30 2012     python  64456    1645404 0.0391733580\n",
            "31 2013    android 155597    2060473 0.0755151851\n",
            "32 2013         c# 166404    2060473 0.0807600973\n",
            "33 2013       java 192187    2060473 0.0932732436\n",
            "34 2013 javascript 197101    2060473 0.0956581329\n",
            "35 2013        php 169376    2060473 0.0822024846\n",
            "36 2013     python  96803    2060473 0.0469809602\n",
            "37 2014    android 167136    2164701 0.0772097394\n",
            "38 2014         c# 164043    2164701 0.0757809046\n",
            "39 2014       java 218917    2164701 0.1011303640\n",
            "40 2014 javascript 237415    2164701 0.1096756550\n",
            "41 2014        php 180737    2164701 0.0834928242\n",
            "42 2014     python 116945    2164701 0.0540236273\n",
            "43 2015    android 164835    2219527 0.0742658233\n",
            "44 2015         c# 155820    2219527 0.0702041471\n",
            "45 2015       java 216738    2219527 0.0976505355\n",
            "46 2015 javascript 257006    2219527 0.1157931397\n",
            "47 2015        php 173187    2219527 0.0780287872\n",
            "48 2015     python 137861    2219527 0.0621127835\n",
            "49 2016    android 161147    2226072 0.0723907403\n",
            "50 2016         c# 150091    2226072 0.0674241444\n",
            "51 2016       java 198559    2226072 0.0891970251\n",
            "52 2016 javascript 265896    2226072 0.1194462713\n",
            "53 2016        php 163757    2226072 0.0735632091\n",
            "54 2016     python 159436    2226072 0.0716221218\n",
            "55 2017    android 149852    2305207 0.0650058758\n",
            "56 2017         c# 139988    2305207 0.0607268675\n",
            "57 2017       java 187732    2305207 0.0814382396\n",
            "58 2017 javascript 266762    2305207 0.1157214949\n",
            "59 2017        php 151754    2305207 0.0658309644\n",
            "60 2017     python 203522    2305207 0.0882879498\n",
            "61 2018    android  65495    1085170 0.0603545988\n",
            "62 2018         c#  59343    1085170 0.0546854410\n",
            "63 2018       java  83841    1085170 0.0772607057\n",
            "64 2018 javascript 115726    1085170 0.1066431988\n",
            "65 2018        php  61257    1085170 0.0564492199\n",
            "66 2018     python 107348    1085170 0.0989227494\n"
          ]
        }
      ]
    },
    {
      "cell_type": "code",
      "source": [
        "#Plot most popular tag\n",
        "%%R\n",
        "ggplot(by_tag_subset, aes(x=year, y=fraction, col=tag)) +\n",
        "geom_line()+\n",
        "labs(title= \"Most popular Tags in Stackoverflow\")"
      ],
      "metadata": {
        "colab": {
          "base_uri": "https://localhost:8080/",
          "height": 497
        },
        "id": "Uceihk0fkwqF",
        "outputId": "6187fab2-3c4d-4417-b85b-d342a79b91a3"
      },
      "execution_count": 43,
      "outputs": [
        {
          "output_type": "display_data",
          "data": {
            "image/png": "[encoded data removed]"
          },
          "metadata": {}
        }
      ]
    },
    {
      "cell_type": "code",
      "source": [
        "#Popularity of phone\n",
        "%%R\n",
        "p_tag <- c(\"ios\", \"android\", \"windows-phone\")\n",
        "\n",
        "p_tag_subset <- bty_fraction %>%\n",
        "filter(tag %in% p_tag)\n",
        "\n",
        "print(p_tag_subset)"
      ],
      "metadata": {
        "colab": {
          "base_uri": "https://localhost:8080/"
        },
        "id": "_dQG_VLrliVL",
        "outputId": "a8491d8d-5f24-49c3-9632-358a87eb890a"
      },
      "execution_count": 46,
      "outputs": [
        {
          "output_type": "stream",
          "name": "stdout",
          "text": [
            "   year           tag number year_total     fraction\n",
            "1  2008       android     38      58390 6.507964e-04\n",
            "2  2008           ios     95      58390 1.626991e-03\n",
            "3  2008 windows-phone      1      58390 1.712622e-05\n",
            "4  2009       android   1991     343868 5.790012e-03\n",
            "5  2009           ios    615     343868 1.788477e-03\n",
            "6  2010       android  27280     694391 3.928622e-02\n",
            "7  2010           ios   3748     694391 5.397535e-03\n",
            "8  2010 windows-phone     47     694391 6.768521e-05\n",
            "9  2011       android  86987    1200551 7.245590e-02\n",
            "10 2011           ios  33214    1200551 2.766563e-02\n",
            "11 2011 windows-phone    171    1200551 1.424346e-04\n",
            "12 2012       android 129903    1645404 7.894900e-02\n",
            "13 2012           ios  71023    1645404 4.316448e-02\n",
            "14 2012 windows-phone    726    1645404 4.412290e-04\n",
            "15 2013       android 155597    2060473 7.551519e-02\n",
            "16 2013           ios  82191    2060473 3.988938e-02\n",
            "17 2013 windows-phone   2229    2060473 1.081790e-03\n",
            "18 2014       android 167136    2164701 7.720974e-02\n",
            "19 2014           ios  91457    2164701 4.224925e-02\n",
            "20 2014 windows-phone   1990    2164701 9.192956e-04\n",
            "21 2015       android 164835    2219527 7.426582e-02\n",
            "22 2015           ios  99332    2219527 4.475368e-02\n",
            "23 2015 windows-phone   1148    2219527 5.172273e-04\n",
            "24 2016       android 161147    2226072 7.239074e-02\n",
            "25 2016           ios  85361    2226072 3.834602e-02\n",
            "26 2016 windows-phone    448    2226072 2.012514e-04\n",
            "27 2017       android 149852    2305207 6.500588e-02\n",
            "28 2017           ios  71751    2305207 3.112562e-02\n",
            "29 2017 windows-phone     93    2305207 4.034345e-05\n",
            "30 2018       android  65495    1085170 6.035460e-02\n",
            "31 2018           ios  27288    1085170 2.514629e-02\n",
            "32 2018 windows-phone     11    1085170 1.013666e-05\n"
          ]
        }
      ]
    },
    {
      "cell_type": "code",
      "source": [
        "#Plot phone tags overtime\n",
        "%%R\n",
        "ggplot(p_tag_subset, aes(x=year, y=fraction, col=tag))+\n",
        "geom_line()+\n",
        "labs(title= \"Phone tag over time\")"
      ],
      "metadata": {
        "colab": {
          "base_uri": "https://localhost:8080/",
          "height": 497
        },
        "id": "GdTddqwlmItA",
        "outputId": "b18266fc-b52c-4c78-f89c-8664632a78ff"
      },
      "execution_count": 47,
      "outputs": [
        {
          "output_type": "display_data",
          "data": {
            "image/png": "[encoded data removed]"
          },
          "metadata": {}
        }
      ]
    }
  ]
}